{
  "nbformat": 4,
  "nbformat_minor": 0,
  "metadata": {
    "colab": {
      "name": "01_Study_Numpy.ipynb",
      "provenance": [],
      "collapsed_sections": [
        "ViZNaGbsPK4m"
      ],
      "authorship_tag": "ABX9TyPqg3YSkgIt5wVEcYqOlrYr",
      "include_colab_link": true
    },
    "kernelspec": {
      "name": "python3",
      "display_name": "Python 3"
    }
  },
  "cells": [
    {
      "cell_type": "markdown",
      "metadata": {
        "id": "view-in-github",
        "colab_type": "text"
      },
      "source": [
        "<a href=\"https://colab.research.google.com/github/yunyonggeun/MLforBioPh/blob/master/01_Study_Numpy.ipynb\" target=\"_parent\"><img src=\"https://colab.research.google.com/assets/colab-badge.svg\" alt=\"Open In Colab\"/></a>"
      ]
    },
    {
      "cell_type": "markdown",
      "metadata": {
        "id": "gmoKiKk2uiwX",
        "colab_type": "text"
      },
      "source": [
        "# 넘파이 패키지 배우기"
      ]
    },
    {
      "cell_type": "markdown",
      "metadata": {
        "id": "QBU9EdgEupLb",
        "colab_type": "text"
      },
      "source": [
        "> 넘파이 모듈 불러오기"
      ]
    },
    {
      "cell_type": "code",
      "metadata": {
        "id": "A0CEFPtNub2A",
        "colab_type": "code",
        "colab": {}
      },
      "source": [
        "import numpy as np"
      ],
      "execution_count": 0,
      "outputs": []
    },
    {
      "cell_type": "markdown",
      "metadata": {
        "id": "ViZNaGbsPK4m",
        "colab_type": "text"
      },
      "source": [
        "## 1. 데이터 생성하기 - 기본"
      ]
    },
    {
      "cell_type": "markdown",
      "metadata": {
        "id": "XI6KOuBgu3MB",
        "colab_type": "text"
      },
      "source": [
        "**학습할 함수**\n",
        "+ np.array([데이터])\n",
        "+ np.arange(start, end, step)\n",
        "+ np.ones((row,column))              - 튜플 형태로 행렬 크기를 넘겨줌\n",
        "+ np.zeros((row,column))\n",
        "+ np.empty((row,column))\n",
        "+ np.full((row, column), value)\n",
        "+ 번수명.reshape(row, column)\n",
        "+ np.linspace(start, end, value)     - 공간을 주어진 크기로 등분하는 함수"
      ]
    },
    {
      "cell_type": "markdown",
      "metadata": {
        "id": "-nGwawhAvFI0",
        "colab_type": "text"
      },
      "source": [
        "> 1.1. np.array 함수로 생성하기"
      ]
    },
    {
      "cell_type": "code",
      "metadata": {
        "id": "ncoAvceEul-f",
        "colab_type": "code",
        "colab": {}
      },
      "source": [
        "np.array([1, 2, 3, 4])  # 벡터형태"
      ],
      "execution_count": 0,
      "outputs": []
    },
    {
      "cell_type": "code",
      "metadata": {
        "id": "ZoDWxS63Xrww",
        "colab_type": "code",
        "colab": {}
      },
      "source": [
        "np.array([[1, 2, 3, 4], [2, 4, 6, 8]]) # 행렬 형태"
      ],
      "execution_count": 0,
      "outputs": []
    },
    {
      "cell_type": "markdown",
      "metadata": {
        "id": "-8HHZfVdvxi5",
        "colab_type": "text"
      },
      "source": [
        "> 1.2. np.arange 함수 이용하기"
      ]
    },
    {
      "cell_type": "code",
      "metadata": {
        "id": "XJGWkvGNvqaK",
        "colab_type": "code",
        "colab": {}
      },
      "source": [
        "np.arange(10)     # 파이썬의 range함수와 동일하다고 함, 값을 하나만 주면 시작 값을 0부터 시작함 "
      ],
      "execution_count": 0,
      "outputs": []
    },
    {
      "cell_type": "code",
      "metadata": {
        "id": "OMo6SWUjv9h_",
        "colab_type": "code",
        "colab": {}
      },
      "source": [
        "np.arange(2, 20, 2)  # 시작 값, 종료 값, 간격(step), 주의할 점은 종료 값을 포함하지 않음"
      ],
      "execution_count": 0,
      "outputs": []
    },
    {
      "cell_type": "code",
      "metadata": {
        "id": "M3v_y0n3wIaq",
        "colab_type": "code",
        "colab": {}
      },
      "source": [
        "x3 = np.arange(5, 102, 5)"
      ],
      "execution_count": 0,
      "outputs": []
    },
    {
      "cell_type": "markdown",
      "metadata": {
        "id": "0PXgbXLBxPF2",
        "colab_type": "text"
      },
      "source": [
        "> 1.3.np.ones / np.zeros : 1 또는 0으로 채워진 벡터나 행렬을 만들어 주는 함수"
      ]
    },
    {
      "cell_type": "code",
      "metadata": {
        "id": "ID8ohuV-wUF-",
        "colab_type": "code",
        "colab": {}
      },
      "source": [
        "np.ones((4,5))  # 튜플형태로 생성하기 위한 자료 구조를 넘겨줌 np.zeros"
      ],
      "execution_count": 0,
      "outputs": []
    },
    {
      "cell_type": "code",
      "metadata": {
        "id": "CI7l7Ll3wsrv",
        "colab_type": "code",
        "colab": {}
      },
      "source": [
        "np.ones((4,5,3))"
      ],
      "execution_count": 0,
      "outputs": []
    },
    {
      "cell_type": "markdown",
      "metadata": {
        "id": "EmNzElnd503U",
        "colab_type": "text"
      },
      "source": [
        "> 1.4. 빈 행렬 생성하기 / 특정 값으로 이루어진 행렬 생성하기"
      ]
    },
    {
      "cell_type": "code",
      "metadata": {
        "id": "cNBvPt88w92g",
        "colab_type": "code",
        "colab": {}
      },
      "source": [
        "np.empty((3,4))"
      ],
      "execution_count": 0,
      "outputs": []
    },
    {
      "cell_type": "code",
      "metadata": {
        "id": "FV_LOVCaBELO",
        "colab_type": "code",
        "colab": {}
      },
      "source": [
        "np.full((3,4), 7)   # 튜플로 행렬 구조를 정의하고 채워질 값을 제시- np.full((행렬 구조), 값)"
      ],
      "execution_count": 0,
      "outputs": []
    },
    {
      "cell_type": "markdown",
      "metadata": {
        "id": "697v92A2LUBS",
        "colab_type": "text"
      },
      "source": [
        "> 1.5. 단위 행렬 만들기 np.eye(크기) : 단위 행렬은 정방행렬이기 때문에 n X n 형태를 가짐"
      ]
    },
    {
      "cell_type": "code",
      "metadata": {
        "id": "s_p8-xExBQgL",
        "colab_type": "code",
        "colab": {
          "base_uri": "https://localhost:8080/",
          "height": 68
        },
        "outputId": "91dac730-5b27-47a4-e0c0-a0b8c0227f6e"
      },
      "source": [
        "np.eye(3)"
      ],
      "execution_count": 3,
      "outputs": [
        {
          "output_type": "execute_result",
          "data": {
            "text/plain": [
              "array([[1., 0., 0.],\n",
              "       [0., 1., 0.],\n",
              "       [0., 0., 1.]])"
            ]
          },
          "metadata": {
            "tags": []
          },
          "execution_count": 3
        }
      ]
    },
    {
      "cell_type": "markdown",
      "metadata": {
        "id": "RnMAQp0OL2Q9",
        "colab_type": "text"
      },
      "source": [
        "> 1.6. 공간을 주어진 크기로 등분하는 함수 np.linspace(시작, 끝, 분할 크기)"
      ]
    },
    {
      "cell_type": "code",
      "metadata": {
        "id": "hyR1aDQyLwDi",
        "colab_type": "code",
        "colab": {
          "base_uri": "https://localhost:8080/",
          "height": 34
        },
        "outputId": "c5527475-a3bd-4606-e250-759b70b17cfe"
      },
      "source": [
        "np.linspace(1, 10, 6)"
      ],
      "execution_count": 4,
      "outputs": [
        {
          "output_type": "execute_result",
          "data": {
            "text/plain": [
              "array([ 1. ,  2.8,  4.6,  6.4,  8.2, 10. ])"
            ]
          },
          "metadata": {
            "tags": []
          },
          "execution_count": 4
        }
      ]
    },
    {
      "cell_type": "markdown",
      "metadata": {
        "id": "XsOMRa4yMtlc",
        "colab_type": "text"
      },
      "source": [
        "> 1.7.행렬의 차원을 바꾸가 위한 함수 reshape"
      ]
    },
    {
      "cell_type": "code",
      "metadata": {
        "id": "KySifJnrMHv6",
        "colab_type": "code",
        "colab": {
          "base_uri": "https://localhost:8080/",
          "height": 34
        },
        "outputId": "92513ff2-7f2c-44d1-dbd3-7da3144095bb"
      },
      "source": [
        "x = np.arange(1,11)\n",
        "print(x)"
      ],
      "execution_count": 9,
      "outputs": [
        {
          "output_type": "stream",
          "text": [
            "[ 1  2  3  4  5  6  7  8  9 10]\n"
          ],
          "name": "stdout"
        }
      ]
    },
    {
      "cell_type": "code",
      "metadata": {
        "id": "1ks1Fv_8M-m4",
        "colab_type": "code",
        "colab": {
          "base_uri": "https://localhost:8080/",
          "height": 102
        },
        "outputId": "0eacf98e-8636-4e39-e615-89ac73d4e31c"
      },
      "source": [
        "x.reshape(5,2)"
      ],
      "execution_count": 10,
      "outputs": [
        {
          "output_type": "execute_result",
          "data": {
            "text/plain": [
              "array([[ 1,  2],\n",
              "       [ 3,  4],\n",
              "       [ 5,  6],\n",
              "       [ 7,  8],\n",
              "       [ 9, 10]])"
            ]
          },
          "metadata": {
            "tags": []
          },
          "execution_count": 10
        }
      ]
    },
    {
      "cell_type": "markdown",
      "metadata": {
        "id": "rtv6fWa8aj_H",
        "colab_type": "text"
      },
      "source": [
        "## 2. 데이터 생성하기 - random 모듈이용하기"
      ]
    },
    {
      "cell_type": "markdown",
      "metadata": {
        "id": "bP9ZhdZ3b8pi",
        "colab_type": "text"
      },
      "source": [
        "> 2.1. rand 함수 : 0, 1, 사이의 분포로 랜덤한 ndarray 생성"
      ]
    },
    {
      "cell_type": "code",
      "metadata": {
        "id": "OeJoM_q4artJ",
        "colab_type": "code",
        "colab": {
          "base_uri": "https://localhost:8080/",
          "height": 51
        },
        "outputId": "6294ecd9-ec7a-4a2c-c01f-53701a50d594"
      },
      "source": [
        "np.random.rand(2,3)              # np.random.rand(행렬 구조)"
      ],
      "execution_count": 11,
      "outputs": [
        {
          "output_type": "execute_result",
          "data": {
            "text/plain": [
              "array([[0.51607801, 0.40434085, 0.34414725],\n",
              "       [0.78536998, 0.76960134, 0.60948367]])"
            ]
          },
          "metadata": {
            "tags": []
          },
          "execution_count": 11
        }
      ]
    },
    {
      "cell_type": "code",
      "metadata": {
        "id": "M99pz4hocoM2",
        "colab_type": "code",
        "colab": {
          "base_uri": "https://localhost:8080/",
          "height": 136
        },
        "outputId": "c8e1f102-fafc-47c4-d3c8-b5bbff2af4a4"
      },
      "source": [
        "np.random.rand(2,3,3)   "
      ],
      "execution_count": 12,
      "outputs": [
        {
          "output_type": "execute_result",
          "data": {
            "text/plain": [
              "array([[[0.5209247 , 0.60006994, 0.69401824],\n",
              "        [0.77156973, 0.85428498, 0.11302936],\n",
              "        [0.92341089, 0.29323858, 0.76240304]],\n",
              "\n",
              "       [[0.6906603 , 0.22458216, 0.35848462],\n",
              "        [0.89028804, 0.91873447, 0.56354004],\n",
              "        [0.36590433, 0.08609185, 0.62252769]]])"
            ]
          },
          "metadata": {
            "tags": []
          },
          "execution_count": 12
        }
      ]
    },
    {
      "cell_type": "markdown",
      "metadata": {
        "id": "5noyzaVnc2BY",
        "colab_type": "text"
      },
      "source": [
        "> 2.2. randn 함수: 정규분포로 샘플링된 random ndarray 생성"
      ]
    },
    {
      "cell_type": "code",
      "metadata": {
        "id": "rVmpEnZsczcV",
        "colab_type": "code",
        "colab": {
          "base_uri": "https://localhost:8080/",
          "height": 51
        },
        "outputId": "a6497edb-1420-4499-d414-9772cd48b09f"
      },
      "source": [
        "np.random.randn(10)                   # 1차원 벡터 생성"
      ],
      "execution_count": 13,
      "outputs": [
        {
          "output_type": "execute_result",
          "data": {
            "text/plain": [
              "array([ 0.58678555,  0.26071161, -0.80357725, -1.95946669,  1.18559279,\n",
              "       -0.29191752,  0.18323271, -0.30814262,  1.77469377, -0.88666516])"
            ]
          },
          "metadata": {
            "tags": []
          },
          "execution_count": 13
        }
      ]
    },
    {
      "cell_type": "code",
      "metadata": {
        "id": "sr4eOZiEdFC-",
        "colab_type": "code",
        "colab": {
          "base_uri": "https://localhost:8080/",
          "height": 68
        },
        "outputId": "af00d2a0-d0e0-470e-d690-c35cfbe47491"
      },
      "source": [
        "np.random.randn(3, 4)                  # 3X4 행렬 생성"
      ],
      "execution_count": 18,
      "outputs": [
        {
          "output_type": "execute_result",
          "data": {
            "text/plain": [
              "array([[-1.63424899,  1.88403421,  0.29010138,  0.02899374],\n",
              "       [ 1.23606517, -1.12223501,  1.46366489,  1.15968409],\n",
              "       [-1.31228563,  0.22664963,  0.49798268, -0.60998681]])"
            ]
          },
          "metadata": {
            "tags": []
          },
          "execution_count": 18
        }
      ]
    },
    {
      "cell_type": "code",
      "metadata": {
        "id": "jokxiPNNdJGj",
        "colab_type": "code",
        "colab": {}
      },
      "source": [
        "np.random.randn(3, 4, 2)                  # 4X2 행렬 3개로 구성된 텐서 생성"
      ],
      "execution_count": 0,
      "outputs": []
    },
    {
      "cell_type": "markdown",
      "metadata": {
        "id": "58eQBIwud8sX",
        "colab_type": "text"
      },
      "source": [
        "> 2.3. randint 함수 : 특정 정수 사이에서 랜덤하게 샘플링"
      ]
    },
    {
      "cell_type": "code",
      "metadata": {
        "id": "u6D-xJ5edjn1",
        "colab_type": "code",
        "colab": {}
      },
      "source": [
        "np.random.randint(1, 100, size=(3, 5))   #np.random.randint(low, high, size=(행렬 구조))))    "
      ],
      "execution_count": 0,
      "outputs": []
    },
    {
      "cell_type": "code",
      "metadata": {
        "id": "L_TsAbHleTYY",
        "colab_type": "code",
        "colab": {}
      },
      "source": [
        "np.random.randint(1, 10, size=(3,2,2))"
      ],
      "execution_count": 0,
      "outputs": []
    },
    {
      "cell_type": "code",
      "metadata": {
        "id": "OqD9utptej88",
        "colab_type": "code",
        "colab": {}
      },
      "source": [
        ""
      ],
      "execution_count": 0,
      "outputs": []
    },
    {
      "cell_type": "markdown",
      "metadata": {
        "id": "xMpnwwkqeumK",
        "colab_type": "text"
      },
      "source": [
        "> 2.4. seed 함수 : 랜덤한 값을 동일하게 다시 생성하고자 할 때 사용"
      ]
    },
    {
      "cell_type": "code",
      "metadata": {
        "id": "Zv5-aeUHezHz",
        "colab_type": "code",
        "colab": {
          "base_uri": "https://localhost:8080/",
          "height": 68
        },
        "outputId": "dc2de21f-c0df-450a-ac6d-e2502b8b511b"
      },
      "source": [
        "np.random.seed(100)\n",
        "np.random.randn(3, 4)           # 실행 전에 seed 함수를 실행하면 반환되는 값이 고정됨\n"
      ],
      "execution_count": 44,
      "outputs": [
        {
          "output_type": "execute_result",
          "data": {
            "text/plain": [
              "array([[-1.74976547,  0.3426804 ,  1.1530358 , -0.25243604],\n",
              "       [ 0.98132079,  0.51421884,  0.22117967, -1.07004333],\n",
              "       [-0.18949583,  0.25500144, -0.45802699,  0.43516349]])"
            ]
          },
          "metadata": {
            "tags": []
          },
          "execution_count": 44
        }
      ]
    },
    {
      "cell_type": "code",
      "metadata": {
        "id": "RvD65pQgfDH_",
        "colab_type": "code",
        "colab": {
          "base_uri": "https://localhost:8080/",
          "height": 68
        },
        "outputId": "f5f59d0f-cd81-4046-aec0-9c83fc80341b"
      },
      "source": [
        "# 위의 함수 실행결과와 비교\n",
        "np.random.randn(3, 4)"
      ],
      "execution_count": 45,
      "outputs": [
        {
          "output_type": "execute_result",
          "data": {
            "text/plain": [
              "array([[-0.58359505,  0.81684707,  0.67272081, -0.10441114],\n",
              "       [-0.53128038,  1.02973269, -0.43813562, -1.11831825],\n",
              "       [ 1.61898166,  1.54160517, -0.25187914, -0.84243574]])"
            ]
          },
          "metadata": {
            "tags": []
          },
          "execution_count": 45
        }
      ]
    },
    {
      "cell_type": "markdown",
      "metadata": {
        "id": "2HKhTi_Lfyg6",
        "colab_type": "text"
      },
      "source": [
        "> 2.5. choice 함수 : 주어진 ndarray에서 제시된 행렬 구조만큼 데이터를 뽑아옴"
      ]
    },
    {
      "cell_type": "code",
      "metadata": {
        "id": "BSk1Uk5_fIf_",
        "colab_type": "code",
        "colab": {
          "base_uri": "https://localhost:8080/",
          "height": 34
        },
        "outputId": "21759b73-9c45-45a1-cd90-59505d4ee96d"
      },
      "source": [
        "np.random.choice(45, size=(7))     #np.random.choice(ndarray, size=(행렬 구조)))    "
      ],
      "execution_count": 51,
      "outputs": [
        {
          "output_type": "execute_result",
          "data": {
            "text/plain": [
              "array([ 7, 38, 22, 30, 34, 42, 20])"
            ]
          },
          "metadata": {
            "tags": []
          },
          "execution_count": 51
        }
      ]
    },
    {
      "cell_type": "code",
      "metadata": {
        "id": "EiTqnHEAgFq6",
        "colab_type": "code",
        "colab": {
          "base_uri": "https://localhost:8080/",
          "height": 68
        },
        "outputId": "aa2992bc-d15c-4924-83ea-532b001f16f5"
      },
      "source": [
        "x = np.array([1, 2, 4, 5, 3, 4, 3 ,4, 6, 8, 8,9])\n",
        "np.random.choice(x, size=(3,4))"
      ],
      "execution_count": 52,
      "outputs": [
        {
          "output_type": "execute_result",
          "data": {
            "text/plain": [
              "array([[4, 4, 2, 8],\n",
              "       [3, 8, 3, 1],\n",
              "       [8, 4, 4, 5]])"
            ]
          },
          "metadata": {
            "tags": []
          },
          "execution_count": 52
        }
      ]
    },
    {
      "cell_type": "code",
      "metadata": {
        "id": "ejxDg9_pggwL",
        "colab_type": "code",
        "colab": {
          "base_uri": "https://localhost:8080/",
          "height": 102
        },
        "outputId": "5f154fc9-7000-43e2-eb16-4eac7b91abf2"
      },
      "source": [
        "y = np.arange(1, 46)\n",
        "np.random.choice(y, size=(5, 7), replace=False)"
      ],
      "execution_count": 56,
      "outputs": [
        {
          "output_type": "execute_result",
          "data": {
            "text/plain": [
              "array([[10, 24, 22,  9, 42, 40, 32],\n",
              "       [ 5, 28, 15,  8, 25, 41,  1],\n",
              "       [44, 35, 36,  2, 34, 39, 17],\n",
              "       [20, 23, 21,  7, 45,  6, 12],\n",
              "       [27, 13, 16,  3, 26, 37, 14]])"
            ]
          },
          "metadata": {
            "tags": []
          },
          "execution_count": 56
        }
      ]
    },
    {
      "cell_type": "markdown",
      "metadata": {
        "id": "1VT8rZDRg_1o",
        "colab_type": "text"
      },
      "source": [
        "> 2.6. 확률 분포에 따른 ndarray 생성하기 : uniform / normal etc"
      ]
    },
    {
      "cell_type": "code",
      "metadata": {
        "id": "AJypwCP4gqKM",
        "colab_type": "code",
        "colab": {
          "base_uri": "https://localhost:8080/",
          "height": 68
        },
        "outputId": "207d89cc-b948-4e42-8b98-cf2fd4585413"
      },
      "source": [
        "np.random.uniform(2, 30, size=(3,4))"
      ],
      "execution_count": 59,
      "outputs": [
        {
          "output_type": "execute_result",
          "data": {
            "text/plain": [
              "array([[29.693999  ,  3.53290065, 19.27620215,  5.145269  ],\n",
              "       [14.94966421, 22.57637042, 11.41030164, 17.29180304],\n",
              "       [28.67227176,  5.19632909, 29.50581737, 22.78705627]])"
            ]
          },
          "metadata": {
            "tags": []
          },
          "execution_count": 59
        }
      ]
    },
    {
      "cell_type": "code",
      "metadata": {
        "id": "_A6oer8rhZg9",
        "colab_type": "code",
        "colab": {
          "base_uri": "https://localhost:8080/",
          "height": 68
        },
        "outputId": "f3364f8c-05af-4436-b5ea-861ddfd9bc71"
      },
      "source": [
        "np.random.normal(size=(3,4))"
      ],
      "execution_count": 60,
      "outputs": [
        {
          "output_type": "execute_result",
          "data": {
            "text/plain": [
              "array([[ 0.46841981,  0.70198995,  1.00764969,  0.57674022],\n",
              "       [-0.96147684, -0.14008023, -0.08469488,  0.35724327],\n",
              "       [-1.3467309 , -0.2331189 , -0.06486086,  0.9844247 ]])"
            ]
          },
          "metadata": {
            "tags": []
          },
          "execution_count": 60
        }
      ]
    }
  ]
}